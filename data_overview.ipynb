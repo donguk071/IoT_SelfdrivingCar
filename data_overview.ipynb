{
 "cells": [
  {
   "cell_type": "code",
   "execution_count": 2,
   "metadata": {},
   "outputs": [
    {
     "name": "stderr",
     "output_type": "stream",
     "text": [
      "c:\\Users\\drago\\anaconda3\\envs\\iot\\lib\\site-packages\\tensorflow\\python\\framework\\dtypes.py:516: FutureWarning: Passing (type, 1) or '1type' as a synonym of type is deprecated; in a future version of numpy, it will be understood as (type, (1,)) / '(1,)type'.\n",
      "  _np_qint8 = np.dtype([(\"qint8\", np.int8, 1)])\n",
      "c:\\Users\\drago\\anaconda3\\envs\\iot\\lib\\site-packages\\tensorflow\\python\\framework\\dtypes.py:517: FutureWarning: Passing (type, 1) or '1type' as a synonym of type is deprecated; in a future version of numpy, it will be understood as (type, (1,)) / '(1,)type'.\n",
      "  _np_quint8 = np.dtype([(\"quint8\", np.uint8, 1)])\n",
      "c:\\Users\\drago\\anaconda3\\envs\\iot\\lib\\site-packages\\tensorflow\\python\\framework\\dtypes.py:518: FutureWarning: Passing (type, 1) or '1type' as a synonym of type is deprecated; in a future version of numpy, it will be understood as (type, (1,)) / '(1,)type'.\n",
      "  _np_qint16 = np.dtype([(\"qint16\", np.int16, 1)])\n",
      "c:\\Users\\drago\\anaconda3\\envs\\iot\\lib\\site-packages\\tensorflow\\python\\framework\\dtypes.py:519: FutureWarning: Passing (type, 1) or '1type' as a synonym of type is deprecated; in a future version of numpy, it will be understood as (type, (1,)) / '(1,)type'.\n",
      "  _np_quint16 = np.dtype([(\"quint16\", np.uint16, 1)])\n",
      "c:\\Users\\drago\\anaconda3\\envs\\iot\\lib\\site-packages\\tensorflow\\python\\framework\\dtypes.py:520: FutureWarning: Passing (type, 1) or '1type' as a synonym of type is deprecated; in a future version of numpy, it will be understood as (type, (1,)) / '(1,)type'.\n",
      "  _np_qint32 = np.dtype([(\"qint32\", np.int32, 1)])\n",
      "c:\\Users\\drago\\anaconda3\\envs\\iot\\lib\\site-packages\\tensorflow\\python\\framework\\dtypes.py:525: FutureWarning: Passing (type, 1) or '1type' as a synonym of type is deprecated; in a future version of numpy, it will be understood as (type, (1,)) / '(1,)type'.\n",
      "  np_resource = np.dtype([(\"resource\", np.ubyte, 1)])\n",
      "c:\\Users\\drago\\anaconda3\\envs\\iot\\lib\\site-packages\\tensorboard\\compat\\tensorflow_stub\\dtypes.py:541: FutureWarning: Passing (type, 1) or '1type' as a synonym of type is deprecated; in a future version of numpy, it will be understood as (type, (1,)) / '(1,)type'.\n",
      "  _np_qint8 = np.dtype([(\"qint8\", np.int8, 1)])\n",
      "c:\\Users\\drago\\anaconda3\\envs\\iot\\lib\\site-packages\\tensorboard\\compat\\tensorflow_stub\\dtypes.py:542: FutureWarning: Passing (type, 1) or '1type' as a synonym of type is deprecated; in a future version of numpy, it will be understood as (type, (1,)) / '(1,)type'.\n",
      "  _np_quint8 = np.dtype([(\"quint8\", np.uint8, 1)])\n",
      "c:\\Users\\drago\\anaconda3\\envs\\iot\\lib\\site-packages\\tensorboard\\compat\\tensorflow_stub\\dtypes.py:543: FutureWarning: Passing (type, 1) or '1type' as a synonym of type is deprecated; in a future version of numpy, it will be understood as (type, (1,)) / '(1,)type'.\n",
      "  _np_qint16 = np.dtype([(\"qint16\", np.int16, 1)])\n",
      "c:\\Users\\drago\\anaconda3\\envs\\iot\\lib\\site-packages\\tensorboard\\compat\\tensorflow_stub\\dtypes.py:544: FutureWarning: Passing (type, 1) or '1type' as a synonym of type is deprecated; in a future version of numpy, it will be understood as (type, (1,)) / '(1,)type'.\n",
      "  _np_quint16 = np.dtype([(\"quint16\", np.uint16, 1)])\n",
      "c:\\Users\\drago\\anaconda3\\envs\\iot\\lib\\site-packages\\tensorboard\\compat\\tensorflow_stub\\dtypes.py:545: FutureWarning: Passing (type, 1) or '1type' as a synonym of type is deprecated; in a future version of numpy, it will be understood as (type, (1,)) / '(1,)type'.\n",
      "  _np_qint32 = np.dtype([(\"qint32\", np.int32, 1)])\n",
      "c:\\Users\\drago\\anaconda3\\envs\\iot\\lib\\site-packages\\tensorboard\\compat\\tensorflow_stub\\dtypes.py:550: FutureWarning: Passing (type, 1) or '1type' as a synonym of type is deprecated; in a future version of numpy, it will be understood as (type, (1,)) / '(1,)type'.\n",
      "  np_resource = np.dtype([(\"resource\", np.ubyte, 1)])\n"
     ]
    }
   ],
   "source": [
    "import glob\n",
    "from PIL import Image\n",
    "import numpy as np\n",
    "import random\n",
    "from sklearn.model_selection import train_test_split\n",
    "from tensorflow import keras \n",
    "import tensorflow as tf\n",
    "import read_data\n",
    "from sklearn.metrics import accuracy_score\n",
    "import matplotlib.pyplot as plt\n",
    "import cv2\n",
    "# load model and visualize result"
   ]
  },
  {
   "cell_type": "code",
   "execution_count": 3,
   "metadata": {},
   "outputs": [
    {
     "name": "stdout",
     "output_type": "stream",
     "text": [
      "len files :  69622\n",
      "(100, 150, 3)\n",
      "(90, 60)\n"
     ]
    },
    {
     "data": {
      "image/png": "[encoded data removed]",
      "text/plain": [
       "<Figure size 640x480 with 1 Axes>"
      ]
     },
     "metadata": {},
     "output_type": "display_data"
    }
   ],
   "source": [
    "file_path = []\n",
    "\n",
    "folder = glob.glob('data/*')\n",
    "for f in folder:\n",
    "    file_path += glob.glob(str(f) + \"/*\")\n",
    "    \n",
    "print(\"len files : \" , len(file_path))\n",
    "\n",
    "\n",
    "sample = Image.open(file_path[1222])\n",
    "\n",
    "print(np.array(sample).shape)\n",
    "\n",
    "plt.imshow(sample)\n",
    "plt.axis('off')\n",
    "plt.imshow(sample.resize((90,60)))\n",
    "print(sample.resize((90,60)).size)\n"
   ]
  },
  {
   "cell_type": "code",
   "execution_count": 14,
   "metadata": {},
   "outputs": [],
   "source": [
    "import glob\n",
    "from PIL import Image\n",
    "import numpy as np\n",
    "import random\n",
    "from sklearn.model_selection import train_test_split\n",
    "import re\n",
    "import tensorflow as tf\n",
    "import matplotlib.pyplot as plt\n",
    "label_list =[0, 45, 90, 135, 180]\n",
    "\n",
    "def get_label_from_filename(filename):\n",
    "    cvurrnet_label = re.findall(r'\\d+', filename)[-1]  # 파일명에서 숫자 부분 추출\n",
    "    for i,label in enumerate(label_list):\n",
    "        if label == int(cvurrnet_label):\n",
    "            return int(i)\n",
    "        # else:\n",
    "        #     print(\"dont have label\", int(cvurrnet_label))\n",
    "    return int(100)\n",
    "\n",
    "class DataReader:\n",
    "    def __init__(self):\n",
    "        self.x_train = []\n",
    "        self.x_test = []\n",
    "        self.y_train = []\n",
    "        self.y_test = []\n",
    "        \n",
    "        self.target = []\n",
    "        \n",
    "    def f_data_reader(self, img_size = (0,0), batch_size = 32):\n",
    "        file_path = []\n",
    "        folder = glob.glob('data/*')\n",
    "        for f in folder:\n",
    "            file_path += glob.glob(str(f) + \"/*\")\n",
    "\n",
    "        print(\"len files : \" , len(file_path))\n",
    "        \n",
    "        data = []\n",
    "        for i, path in enumerate(file_path):\n",
    "            img = Image.open(path)\n",
    "            \n",
    "            if img_size[0] != 0 :\n",
    "                img = img.resize((img_size[0], img_size[1]))\n",
    "                \n",
    "            img = np.asarray(img)\n",
    "            label = get_label_from_filename(path)\n",
    "            if i % 10 == 0:  # Add the image only once every 10 images\n",
    "                data.append((img, label))\n",
    "\n",
    "            if i % 5000 == 0:\n",
    "                print(\"processed : {} / {}\".format(i,len(file_path)) )\n",
    "       \n",
    "        random.shuffle(data)\n",
    "\n",
    "        target = [row[1] for row in data]\n",
    "        self.target = target\n",
    "        data = [row[0] for row in data]\n",
    "        num_label = len(np.unique(target))\n",
    "        print(np.unique(target))\n",
    "        print(\"num class : \", num_label)\n",
    "        #one hot\n",
    "        #stf.keras.utils.to_categorical(target, num_label)\n",
    "        \n",
    "        self.x_train, self.x_test, self.y_train, self.y_test = train_test_split(\n",
    "        data, target, test_size=0.2, shuffle=True, stratify=target, random_state=34)\n",
    "        self.x_train = np.array(self.x_train) / 255.0\n",
    "        self.x_test = np.array(self.x_test) / 255.0\n",
    "        self.y_train = np.array(self.y_train) / 1.0\n",
    "        self.y_test = np.array(self.y_test) / 1.0\n",
    "\n",
    "        print(\"\\n\\nData Read Done!\")\n",
    "        print(\"Training X Size : \" + str(self.x_train.shape))\n",
    "        print(\"Training Y Size : \" + str(self.y_train.shape))\n",
    "        print(\"Test X Size : \" + str(self.x_test.shape))\n",
    "        print(\"Test Y Size : \" + str(self.y_test.shape) + '\\n\\n')\n",
    "\n",
    "        # target 리스트에 저장된 값들의 분포 그래프 그리기\n",
    "        plt.hist(target)\n",
    "        plt.title(\"Distribution of Target Values\")\n",
    "        plt.xlabel(\"Target Values\")\n",
    "        plt.ylabel(\"Frequency\")\n",
    "        plt.show()"
   ]
  },
  {
   "cell_type": "code",
   "execution_count": 15,
   "metadata": {},
   "outputs": [
    {
     "name": "stdout",
     "output_type": "stream",
     "text": [
      "len files :  69622\n",
      "processed : 0 / 69622\n",
      "processed : 5000 / 69622\n",
      "processed : 10000 / 69622\n",
      "processed : 15000 / 69622\n",
      "processed : 20000 / 69622\n"
     ]
    }
   ],
   "source": [
    "import tensorflow as tf\n",
    "from tensorflow.python.keras.callbacks import EarlyStopping\n",
    "from tensorflow.python.keras.optimizers import Adam\n",
    "import os\n",
    "\n",
    "test = DataReader()\n",
    "test.f_data_reader((128,128))\n",
    "model = tf.keras.models.Sequential([\n",
    "    tf.keras.layers.Conv2D(filters=64, kernel_size=(3, 3), input_shape = (128,128,3),activation=tf.nn.relu),\n",
    "    tf.keras.layers.MaxPooling2D((2, 2)),\n",
    "    tf.keras.layers.Conv2D(filters=128, kernel_size=(3, 3), activation=tf.nn.relu),\n",
    "    tf.keras.layers.MaxPooling2D((2, 2)),\n",
    "    tf.keras.layers.Conv2D(filters=128, kernel_size=(3, 3), activation=tf.nn.relu),\n",
    "    tf.keras.layers.MaxPooling2D((2, 2)),\n",
    "    tf.keras.layers.Conv2D(filters=256, kernel_size=(3, 3), activation=tf.nn.relu),\n",
    "    tf.keras.layers.MaxPooling2D((2, 2)),\n",
    "    tf.keras.layers.Conv2D(filters=256, kernel_size=(3, 3), activation=tf.nn.relu),\n",
    "    tf.keras.layers.MaxPooling2D((2, 2)),\n",
    "    tf.keras.layers.Flatten(),\n",
    "    tf.keras.layers.Dense(2000, activation=tf.nn.relu),\n",
    "    tf.keras.layers.Dense(1000, activation=tf.nn.relu),\n",
    "    tf.keras.layers.Dense(5, activation=tf.nn.softmax)\n",
    "])\n",
    "model.compile(optimizer=Adam(lr=0.001), metrics=['accuracy'], loss='sparse_categorical_crossentropy')\n",
    "print(\"model defined\\n\\n\", model.summary())\n",
    "\n",
    "print(\"\\n\\n************ TRAINING START ************\")\n",
    "early_stop = EarlyStopping(monitor='val_loss', patience=4)\n",
    "early_stop2 = EarlyStopping(monitor='val_acc', patience=4)\n",
    "print(test.y_train.dtype)\n",
    "\n",
    "history = model.fit(test.x_train, test.y_train, epochs=30, batch_size=32,\n",
    "                    validation_data=(test.x_test, test.y_test),\n",
    "                    callbacks=[early_stop, early_stop2])\n",
    "\n",
    "\n",
    "res = model.evaluate(test.x_test, test.y_test, verbose=0)\n",
    "print(\"acc is: \", res[1] * 100)\n",
    "\n",
    "model.save('./trained_models/0529_30_epochs.h5')"
   ]
  },
  {
   "cell_type": "code",
   "execution_count": null,
   "metadata": {},
   "outputs": [],
   "source": []
  }
 ],
 "metadata": {
  "kernelspec": {
   "display_name": "DLtensorflow",
   "language": "python",
   "name": "python3"
  },
  "language_info": {
   "codemirror_mode": {
    "name": "ipython",
    "version": 3
   },
   "file_extension": ".py",
   "mimetype": "text/x-python",
   "name": "python",
   "nbconvert_exporter": "python",
   "pygments_lexer": "ipython3",
   "version": "3.7.3"
  },
  "orig_nbformat": 4
 },
 "nbformat": 4,
 "nbformat_minor": 2
}

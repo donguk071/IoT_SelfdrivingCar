{
 "cells": [
  {
   "cell_type": "code",
   "execution_count": 2,
   "metadata": {},
   "outputs": [],
   "source": [
    "import glob\n",
    "from PIL import Image\n",
    "import numpy as np\n",
    "import random\n",
    "from sklearn.model_selection import train_test_split"
   ]
  },
  {
   "cell_type": "code",
   "execution_count": 5,
   "metadata": {},
   "outputs": [],
   "source": [
    "\n",
    "import re\n",
    "label_list =[0, 30, 60, 90, 120, 150, 180]\n",
    "\n",
    "def get_label_from_filename(filename):\n",
    "    cvurrnet_label = re.findall(r'\\d+', filename)[-1]  # 파일명에서 숫자 부분 추출\n",
    "    for i,label in enumerate(label_list):\n",
    "        if label == int(cvurrnet_label):\n",
    "            return int(i)\n",
    "    return int(100)\n"
   ]
  },
  {
   "cell_type": "code",
   "execution_count": 6,
   "metadata": {},
   "outputs": [],
   "source": [
    "file_path = []\n",
    "folder = glob.glob('data/*')\n",
    "for f in folder:\n",
    "    file_path += glob.glob(str(f) + \"/*\")"
   ]
  },
  {
   "cell_type": "code",
   "execution_count": 7,
   "metadata": {},
   "outputs": [
    {
     "data": {
      "text/plain": [
       "1443"
      ]
     },
     "execution_count": 7,
     "metadata": {},
     "output_type": "execute_result"
    }
   ],
   "source": [
    "len(file_path)"
   ]
  },
  {
   "cell_type": "code",
   "execution_count": 8,
   "metadata": {},
   "outputs": [],
   "source": [
    "class DataReader:\n",
    "    def __init__(self):\n",
    "        self.x_train = []\n",
    "        self.x_test = []\n",
    "        self.y_train = []\n",
    "        self.y_test = []\n",
    "    def f_data_reader(self):\n",
    "        file_path = []\n",
    "        folder = glob.glob('data/*')\n",
    "        for f in folder:\n",
    "            file_path = glob.glob(str(f) + \"/*\")\n",
    "\n",
    "        print(\"len files : \" , len(file_path))\n",
    "\n",
    "        data = []\n",
    "        for i, path in enumerate(file_path):\n",
    "            img = Image.open(path)\n",
    "            #img = img.resize((img_size, img_size))\n",
    "            img = np.asarray(img)\n",
    "            label = get_label_from_filename(path)\n",
    "            data.append((img, label))\n",
    "            \n",
    "        random.shuffle(data)\n",
    "\n",
    "        target = [row[1] for row in data]\n",
    "        data = [row[0] for row in data]\n",
    "\n",
    "        self.x_train, self.x_test, self.y_train, self.y_test = train_test_split(\n",
    "        data, target, test_size=0.2, shuffle=True, stratify=target, random_state=34)\n",
    "        self.x_train = np.array(self.x_train) / 255.0\n",
    "        self.x_test = np.array(self.x_test) / 255.0\n",
    "        self.y_train = np.array(self.y_train) / 1.0\n",
    "        self.y_test = np.array(self.y_test) / 1.0\n",
    "\n",
    "        print(\"\\n\\nData Read Done!\")\n",
    "        print(\"Training X Size : \" + str(self.x_train.shape))\n",
    "        print(\"Training Y Size : \" + str(self.y_train.shape))\n",
    "        print(\"Test X Size : \" + str(self.x_test.shape))\n",
    "        print(\"Test Y Size : \" + str(self.y_test.shape) + '\\n\\n')"
   ]
  },
  {
   "cell_type": "code",
   "execution_count": 45,
   "metadata": {},
   "outputs": [
    {
     "name": "stdout",
     "output_type": "stream",
     "text": [
      "len files :  581\n",
      "\n",
      "\n",
      "Data Read Done!\n",
      "Training X Size : (464, 66, 200, 3)\n",
      "Training Y Size : (464,)\n",
      "Test X Size : (117, 66, 200, 3)\n",
      "Test Y Size : (117,)\n",
      "\n",
      "\n"
     ]
    }
   ],
   "source": [
    "dr = DataReader()\n",
    "dr.f_data_reader()"
   ]
  },
  {
   "cell_type": "code",
   "execution_count": 48,
   "metadata": {},
   "outputs": [],
   "source": [
    "from tensorflow import keras\n",
    "from tensorflow.keras.optimizers import Adam "
   ]
  },
  {
   "cell_type": "code",
   "execution_count": null,
   "metadata": {},
   "outputs": [],
   "source": []
  }
 ],
 "metadata": {
  "kernelspec": {
   "display_name": "DLtensorflow",
   "language": "python",
   "name": "python3"
  },
  "language_info": {
   "codemirror_mode": {
    "name": "ipython",
    "version": 3
   },
   "file_extension": ".py",
   "mimetype": "text/x-python",
   "name": "python",
   "nbconvert_exporter": "python",
   "pygments_lexer": "ipython3",
   "version": "3.10.10"
  },
  "orig_nbformat": 4
 },
 "nbformat": 4,
 "nbformat_minor": 2
}
